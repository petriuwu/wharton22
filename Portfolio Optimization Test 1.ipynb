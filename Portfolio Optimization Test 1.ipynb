{
 "cells": [
  {
   "cell_type": "code",
   "execution_count": 1,
   "id": "7f37c6b6",
   "metadata": {},
   "outputs": [],
   "source": [
    "import numpy as np\n",
    "import pandas as pd\n",
    "from pandas_datareader import data\n",
    "import matplotlib.pyplot as plt\n",
    "%matplotlib inline"
   ]
  },
  {
   "cell_type": "code",
   "execution_count": 2,
   "id": "05ebee58",
   "metadata": {},
   "outputs": [
    {
     "data": {
      "text/html": [
       "<div>\n",
       "<style scoped>\n",
       "    .dataframe tbody tr th:only-of-type {\n",
       "        vertical-align: middle;\n",
       "    }\n",
       "\n",
       "    .dataframe tbody tr th {\n",
       "        vertical-align: top;\n",
       "    }\n",
       "\n",
       "    .dataframe thead tr th {\n",
       "        text-align: left;\n",
       "    }\n",
       "\n",
       "    .dataframe thead tr:last-of-type th {\n",
       "        text-align: right;\n",
       "    }\n",
       "</style>\n",
       "<table border=\"1\" class=\"dataframe\">\n",
       "  <thead>\n",
       "    <tr>\n",
       "      <th>Attributes</th>\n",
       "      <th colspan=\"2\" halign=\"left\">Adj Close</th>\n",
       "      <th colspan=\"2\" halign=\"left\">Close</th>\n",
       "      <th colspan=\"2\" halign=\"left\">High</th>\n",
       "      <th colspan=\"2\" halign=\"left\">Low</th>\n",
       "      <th colspan=\"2\" halign=\"left\">Open</th>\n",
       "      <th colspan=\"2\" halign=\"left\">Volume</th>\n",
       "    </tr>\n",
       "    <tr>\n",
       "      <th>Symbols</th>\n",
       "      <th>TSLA</th>\n",
       "      <th>META</th>\n",
       "      <th>TSLA</th>\n",
       "      <th>META</th>\n",
       "      <th>TSLA</th>\n",
       "      <th>META</th>\n",
       "      <th>TSLA</th>\n",
       "      <th>META</th>\n",
       "      <th>TSLA</th>\n",
       "      <th>META</th>\n",
       "      <th>TSLA</th>\n",
       "      <th>META</th>\n",
       "    </tr>\n",
       "    <tr>\n",
       "      <th>Date</th>\n",
       "      <th></th>\n",
       "      <th></th>\n",
       "      <th></th>\n",
       "      <th></th>\n",
       "      <th></th>\n",
       "      <th></th>\n",
       "      <th></th>\n",
       "      <th></th>\n",
       "      <th></th>\n",
       "      <th></th>\n",
       "      <th></th>\n",
       "      <th></th>\n",
       "    </tr>\n",
       "  </thead>\n",
       "  <tbody>\n",
       "    <tr>\n",
       "      <th>2018-01-02</th>\n",
       "      <td>21.368668</td>\n",
       "      <td>181.419998</td>\n",
       "      <td>21.368668</td>\n",
       "      <td>181.419998</td>\n",
       "      <td>21.474001</td>\n",
       "      <td>181.580002</td>\n",
       "      <td>20.733334</td>\n",
       "      <td>177.550003</td>\n",
       "      <td>20.799999</td>\n",
       "      <td>177.679993</td>\n",
       "      <td>65283000</td>\n",
       "      <td>18151900</td>\n",
       "    </tr>\n",
       "    <tr>\n",
       "      <th>2018-01-03</th>\n",
       "      <td>21.150000</td>\n",
       "      <td>184.669998</td>\n",
       "      <td>21.150000</td>\n",
       "      <td>184.669998</td>\n",
       "      <td>21.683332</td>\n",
       "      <td>184.779999</td>\n",
       "      <td>21.036667</td>\n",
       "      <td>181.330002</td>\n",
       "      <td>21.400000</td>\n",
       "      <td>181.880005</td>\n",
       "      <td>67822500</td>\n",
       "      <td>16886600</td>\n",
       "    </tr>\n",
       "    <tr>\n",
       "      <th>2018-01-04</th>\n",
       "      <td>20.974667</td>\n",
       "      <td>184.330002</td>\n",
       "      <td>20.974667</td>\n",
       "      <td>184.330002</td>\n",
       "      <td>21.236668</td>\n",
       "      <td>186.210007</td>\n",
       "      <td>20.378668</td>\n",
       "      <td>184.100006</td>\n",
       "      <td>20.858000</td>\n",
       "      <td>184.899994</td>\n",
       "      <td>149194500</td>\n",
       "      <td>13880900</td>\n",
       "    </tr>\n",
       "    <tr>\n",
       "      <th>2018-01-05</th>\n",
       "      <td>21.105333</td>\n",
       "      <td>186.850006</td>\n",
       "      <td>21.105333</td>\n",
       "      <td>186.850006</td>\n",
       "      <td>21.149332</td>\n",
       "      <td>186.899994</td>\n",
       "      <td>20.799999</td>\n",
       "      <td>184.929993</td>\n",
       "      <td>21.108000</td>\n",
       "      <td>185.589996</td>\n",
       "      <td>68868000</td>\n",
       "      <td>13574500</td>\n",
       "    </tr>\n",
       "    <tr>\n",
       "      <th>2018-01-08</th>\n",
       "      <td>22.427334</td>\n",
       "      <td>188.279999</td>\n",
       "      <td>22.427334</td>\n",
       "      <td>188.279999</td>\n",
       "      <td>22.468000</td>\n",
       "      <td>188.899994</td>\n",
       "      <td>21.033333</td>\n",
       "      <td>186.330002</td>\n",
       "      <td>21.066668</td>\n",
       "      <td>187.199997</td>\n",
       "      <td>147891000</td>\n",
       "      <td>17994700</td>\n",
       "    </tr>\n",
       "  </tbody>\n",
       "</table>\n",
       "</div>"
      ],
      "text/plain": [
       "Attributes  Adj Close                  Close                   High  \\\n",
       "Symbols          TSLA        META       TSLA        META       TSLA   \n",
       "Date                                                                  \n",
       "2018-01-02  21.368668  181.419998  21.368668  181.419998  21.474001   \n",
       "2018-01-03  21.150000  184.669998  21.150000  184.669998  21.683332   \n",
       "2018-01-04  20.974667  184.330002  20.974667  184.330002  21.236668   \n",
       "2018-01-05  21.105333  186.850006  21.105333  186.850006  21.149332   \n",
       "2018-01-08  22.427334  188.279999  22.427334  188.279999  22.468000   \n",
       "\n",
       "Attributes                    Low                   Open              \\\n",
       "Symbols           META       TSLA        META       TSLA        META   \n",
       "Date                                                                   \n",
       "2018-01-02  181.580002  20.733334  177.550003  20.799999  177.679993   \n",
       "2018-01-03  184.779999  21.036667  181.330002  21.400000  181.880005   \n",
       "2018-01-04  186.210007  20.378668  184.100006  20.858000  184.899994   \n",
       "2018-01-05  186.899994  20.799999  184.929993  21.108000  185.589996   \n",
       "2018-01-08  188.899994  21.033333  186.330002  21.066668  187.199997   \n",
       "\n",
       "Attributes     Volume            \n",
       "Symbols          TSLA      META  \n",
       "Date                             \n",
       "2018-01-02   65283000  18151900  \n",
       "2018-01-03   67822500  16886600  \n",
       "2018-01-04  149194500  13880900  \n",
       "2018-01-05   68868000  13574500  \n",
       "2018-01-08  147891000  17994700  "
      ]
     },
     "execution_count": 2,
     "metadata": {},
     "output_type": "execute_result"
    }
   ],
   "source": [
    "# Read Data\n",
    "test = data.DataReader(['TSLA', 'META'], 'yahoo', start='2018/01/01', end='2019/12/31')\n",
    "test.head()"
   ]
  },
  {
   "cell_type": "code",
   "execution_count": 3,
   "id": "18799bc8",
   "metadata": {},
   "outputs": [
    {
     "data": {
      "text/html": [
       "<div>\n",
       "<style scoped>\n",
       "    .dataframe tbody tr th:only-of-type {\n",
       "        vertical-align: middle;\n",
       "    }\n",
       "\n",
       "    .dataframe tbody tr th {\n",
       "        vertical-align: top;\n",
       "    }\n",
       "\n",
       "    .dataframe thead th {\n",
       "        text-align: right;\n",
       "    }\n",
       "</style>\n",
       "<table border=\"1\" class=\"dataframe\">\n",
       "  <thead>\n",
       "    <tr style=\"text-align: right;\">\n",
       "      <th>Symbols</th>\n",
       "      <th>TSLA</th>\n",
       "      <th>META</th>\n",
       "    </tr>\n",
       "    <tr>\n",
       "      <th>Date</th>\n",
       "      <th></th>\n",
       "      <th></th>\n",
       "    </tr>\n",
       "  </thead>\n",
       "  <tbody>\n",
       "    <tr>\n",
       "      <th>2018-01-02</th>\n",
       "      <td>21.368668</td>\n",
       "      <td>181.419998</td>\n",
       "    </tr>\n",
       "    <tr>\n",
       "      <th>2018-01-03</th>\n",
       "      <td>21.150000</td>\n",
       "      <td>184.669998</td>\n",
       "    </tr>\n",
       "    <tr>\n",
       "      <th>2018-01-04</th>\n",
       "      <td>20.974667</td>\n",
       "      <td>184.330002</td>\n",
       "    </tr>\n",
       "    <tr>\n",
       "      <th>2018-01-05</th>\n",
       "      <td>21.105333</td>\n",
       "      <td>186.850006</td>\n",
       "    </tr>\n",
       "    <tr>\n",
       "      <th>2018-01-08</th>\n",
       "      <td>22.427334</td>\n",
       "      <td>188.279999</td>\n",
       "    </tr>\n",
       "  </tbody>\n",
       "</table>\n",
       "</div>"
      ],
      "text/plain": [
       "Symbols          TSLA        META\n",
       "Date                             \n",
       "2018-01-02  21.368668  181.419998\n",
       "2018-01-03  21.150000  184.669998\n",
       "2018-01-04  20.974667  184.330002\n",
       "2018-01-05  21.105333  186.850006\n",
       "2018-01-08  22.427334  188.279999"
      ]
     },
     "execution_count": 3,
     "metadata": {},
     "output_type": "execute_result"
    }
   ],
   "source": [
    "# Closing price\n",
    "test = test['Adj Close']\n",
    "test.head()"
   ]
  },
  {
   "cell_type": "code",
   "execution_count": 4,
   "id": "595b7ff9",
   "metadata": {},
   "outputs": [
    {
     "data": {
      "text/plain": [
       "Date\n",
       "2018-01-02         NaN\n",
       "2018-01-03   -0.010286\n",
       "2018-01-04   -0.008325\n",
       "2018-01-05    0.006210\n",
       "2018-01-08    0.060755\n",
       "Name: TSLA, dtype: float64"
      ]
     },
     "execution_count": 4,
     "metadata": {},
     "output_type": "execute_result"
    }
   ],
   "source": [
    "# Log of percentage change\n",
    "tesla = test['TSLA'].pct_change().apply(lambda x: np.log(1+x))\n",
    "tesla.head()"
   ]
  },
  {
   "cell_type": "code",
   "execution_count": 5,
   "id": "f0eacbc7",
   "metadata": {},
   "outputs": [
    {
     "data": {
      "text/plain": [
       "0.0011483733956322896"
      ]
     },
     "execution_count": 5,
     "metadata": {},
     "output_type": "execute_result"
    }
   ],
   "source": [
    "# Variance\n",
    "var_tesla = tesla.var()\n",
    "var_tesla"
   ]
  },
  {
   "cell_type": "code",
   "execution_count": 6,
   "id": "3a3090ac",
   "metadata": {},
   "outputs": [
    {
     "data": {
      "text/plain": [
       "Date\n",
       "2018-01-02         NaN\n",
       "2018-01-03    0.017756\n",
       "2018-01-04   -0.001843\n",
       "2018-01-05    0.013579\n",
       "2018-01-08    0.007624\n",
       "Name: META, dtype: float64"
      ]
     },
     "execution_count": 6,
     "metadata": {},
     "output_type": "execute_result"
    }
   ],
   "source": [
    "# Log of Percentage change for Facebook\n",
    "fb = test['META'].pct_change().apply(lambda x: np.log(1+x))\n",
    "fb.head()"
   ]
  },
  {
   "cell_type": "code",
   "execution_count": 7,
   "id": "f1e6873e",
   "metadata": {},
   "outputs": [
    {
     "data": {
      "text/plain": [
       "0.00045697258417022536"
      ]
     },
     "execution_count": 7,
     "metadata": {},
     "output_type": "execute_result"
    }
   ],
   "source": [
    "# Variance\n",
    "var_fb = fb.var()\n",
    "var_fb"
   ]
  },
  {
   "cell_type": "code",
   "execution_count": 8,
   "id": "1290ec6d",
   "metadata": {},
   "outputs": [
    {
     "data": {
      "text/plain": [
       "(0.53581092645454, 0.33799873674698305)"
      ]
     },
     "execution_count": 8,
     "metadata": {},
     "output_type": "execute_result"
    }
   ],
   "source": [
    "# Volatility\n",
    "tesla_vol = np.sqrt(var_tesla * 250)\n",
    "fb_vol = np.sqrt(var_fb * 250)\n",
    "tesla_vol, fb_vol"
   ]
  },
  {
   "cell_type": "code",
   "execution_count": 9,
   "id": "abd8e0f0",
   "metadata": {},
   "outputs": [
    {
     "data": {
      "text/plain": [
       "<AxesSubplot:xlabel='Symbols'>"
      ]
     },
     "execution_count": 9,
     "metadata": {},
     "output_type": "execute_result"
    },
    {
     "data": {
      "image/png": "[encoded data removed]",
      "text/plain": [
       "<Figure size 432x288 with 1 Axes>"
      ]
     },
     "metadata": {
      "needs_background": "light"
     },
     "output_type": "display_data"
    }
   ],
   "source": [
    "# Volatility of both stocks\n",
    "test.pct_change().apply(lambda x: np.log(1+x)).std().apply(lambda x: x*np.sqrt(250)).plot(kind='bar')"
   ]
  },
  {
   "cell_type": "code",
   "execution_count": 10,
   "id": "99794d74",
   "metadata": {},
   "outputs": [
    {
     "data": {
      "text/html": [
       "<div>\n",
       "<style scoped>\n",
       "    .dataframe tbody tr th:only-of-type {\n",
       "        vertical-align: middle;\n",
       "    }\n",
       "\n",
       "    .dataframe tbody tr th {\n",
       "        vertical-align: top;\n",
       "    }\n",
       "\n",
       "    .dataframe thead th {\n",
       "        text-align: right;\n",
       "    }\n",
       "</style>\n",
       "<table border=\"1\" class=\"dataframe\">\n",
       "  <thead>\n",
       "    <tr style=\"text-align: right;\">\n",
       "      <th>Symbols</th>\n",
       "      <th>TSLA</th>\n",
       "      <th>META</th>\n",
       "    </tr>\n",
       "    <tr>\n",
       "      <th>Date</th>\n",
       "      <th></th>\n",
       "      <th></th>\n",
       "    </tr>\n",
       "  </thead>\n",
       "  <tbody>\n",
       "    <tr>\n",
       "      <th>2018-01-02</th>\n",
       "      <td>NaN</td>\n",
       "      <td>NaN</td>\n",
       "    </tr>\n",
       "    <tr>\n",
       "      <th>2018-01-03</th>\n",
       "      <td>-0.010286</td>\n",
       "      <td>0.017756</td>\n",
       "    </tr>\n",
       "    <tr>\n",
       "      <th>2018-01-04</th>\n",
       "      <td>-0.008325</td>\n",
       "      <td>-0.001843</td>\n",
       "    </tr>\n",
       "    <tr>\n",
       "      <th>2018-01-05</th>\n",
       "      <td>0.006210</td>\n",
       "      <td>0.013579</td>\n",
       "    </tr>\n",
       "    <tr>\n",
       "      <th>2018-01-08</th>\n",
       "      <td>0.060755</td>\n",
       "      <td>0.007624</td>\n",
       "    </tr>\n",
       "  </tbody>\n",
       "</table>\n",
       "</div>"
      ],
      "text/plain": [
       "Symbols         TSLA      META\n",
       "Date                          \n",
       "2018-01-02       NaN       NaN\n",
       "2018-01-03 -0.010286  0.017756\n",
       "2018-01-04 -0.008325 -0.001843\n",
       "2018-01-05  0.006210  0.013579\n",
       "2018-01-08  0.060755  0.007624"
      ]
     },
     "execution_count": 10,
     "metadata": {},
     "output_type": "execute_result"
    }
   ],
   "source": [
    "# Log of Percentage change\n",
    "test1 = test.pct_change().apply(lambda x: np.log(1+x))\n",
    "test1.head()"
   ]
  },
  {
   "cell_type": "code",
   "execution_count": 12,
   "id": "e1678b17",
   "metadata": {},
   "outputs": [
    {
     "data": {
      "text/plain": [
       "0.00018261619726860567"
      ]
     },
     "execution_count": 12,
     "metadata": {},
     "output_type": "execute_result"
    }
   ],
   "source": [
    "# Covariance\n",
    "test1['TSLA'].cov(test1['META'])"
   ]
  },
  {
   "cell_type": "code",
   "execution_count": 13,
   "id": "1bb9c06a",
   "metadata": {},
   "outputs": [
    {
     "data": {
      "text/plain": [
       "0.25208828334500855"
      ]
     },
     "execution_count": 13,
     "metadata": {},
     "output_type": "execute_result"
    }
   ],
   "source": [
    "test1['TSLA'].corr(test1['META'])"
   ]
  },
  {
   "cell_type": "code",
   "execution_count": 14,
   "id": "e87404fc",
   "metadata": {},
   "outputs": [
    {
     "data": {
      "text/html": [
       "<div>\n",
       "<style scoped>\n",
       "    .dataframe tbody tr th:only-of-type {\n",
       "        vertical-align: middle;\n",
       "    }\n",
       "\n",
       "    .dataframe tbody tr th {\n",
       "        vertical-align: top;\n",
       "    }\n",
       "\n",
       "    .dataframe thead th {\n",
       "        text-align: right;\n",
       "    }\n",
       "</style>\n",
       "<table border=\"1\" class=\"dataframe\">\n",
       "  <thead>\n",
       "    <tr style=\"text-align: right;\">\n",
       "      <th>Symbols</th>\n",
       "      <th>TSLA</th>\n",
       "      <th>META</th>\n",
       "    </tr>\n",
       "    <tr>\n",
       "      <th>Date</th>\n",
       "      <th></th>\n",
       "      <th></th>\n",
       "    </tr>\n",
       "  </thead>\n",
       "  <tbody>\n",
       "    <tr>\n",
       "      <th>2018-01-02</th>\n",
       "      <td>NaN</td>\n",
       "      <td>NaN</td>\n",
       "    </tr>\n",
       "    <tr>\n",
       "      <th>2018-01-03</th>\n",
       "      <td>-0.010286</td>\n",
       "      <td>0.017756</td>\n",
       "    </tr>\n",
       "    <tr>\n",
       "      <th>2018-01-04</th>\n",
       "      <td>-0.008325</td>\n",
       "      <td>-0.001843</td>\n",
       "    </tr>\n",
       "    <tr>\n",
       "      <th>2018-01-05</th>\n",
       "      <td>0.006210</td>\n",
       "      <td>0.013579</td>\n",
       "    </tr>\n",
       "    <tr>\n",
       "      <th>2018-01-08</th>\n",
       "      <td>0.060755</td>\n",
       "      <td>0.007624</td>\n",
       "    </tr>\n",
       "  </tbody>\n",
       "</table>\n",
       "</div>"
      ],
      "text/plain": [
       "Symbols         TSLA      META\n",
       "Date                          \n",
       "2018-01-02       NaN       NaN\n",
       "2018-01-03 -0.010286  0.017756\n",
       "2018-01-04 -0.008325 -0.001843\n",
       "2018-01-05  0.006210  0.013579\n",
       "2018-01-08  0.060755  0.007624"
      ]
     },
     "execution_count": 14,
     "metadata": {},
     "output_type": "execute_result"
    }
   ],
   "source": [
    "test2 = test.pct_change().apply(lambda x: np.log(1+x))\n",
    "test2.head()"
   ]
  },
  {
   "cell_type": "code",
   "execution_count": 15,
   "id": "e29c262d",
   "metadata": {},
   "outputs": [
    {
     "data": {
      "text/plain": [
       "Symbols\n",
       "TSLA    0.000530\n",
       "META    0.000246\n",
       "dtype: float64"
      ]
     },
     "execution_count": 15,
     "metadata": {},
     "output_type": "execute_result"
    }
   ],
   "source": [
    "# Define weights for allocation\n",
    "w = [0.2, 0.8]\n",
    "e_r_ind = test2.mean()\n",
    "e_r_ind"
   ]
  },
  {
   "cell_type": "code",
   "execution_count": 16,
   "id": "4ab56493",
   "metadata": {},
   "outputs": [
    {
     "data": {
      "text/plain": [
       "0.0003027691433275711"
      ]
     },
     "execution_count": 16,
     "metadata": {},
     "output_type": "execute_result"
    }
   ],
   "source": [
    "# Total expected return\n",
    "e_r = (e_r_ind*w).sum()\n",
    "e_r"
   ]
  },
  {
   "cell_type": "code",
   "execution_count": null,
   "id": "b238a128",
   "metadata": {},
   "outputs": [],
   "source": []
  }
 ],
 "metadata": {
  "kernelspec": {
   "display_name": "Python 3 (ipykernel)",
   "language": "python",
   "name": "python3"
  },
  "language_info": {
   "codemirror_mode": {
    "name": "ipython",
    "version": 3
   },
   "file_extension": ".py",
   "mimetype": "text/x-python",
   "name": "python",
   "nbconvert_exporter": "python",
   "pygments_lexer": "ipython3",
   "version": "3.9.12"
  }
 },
 "nbformat": 4,
 "nbformat_minor": 5
}
